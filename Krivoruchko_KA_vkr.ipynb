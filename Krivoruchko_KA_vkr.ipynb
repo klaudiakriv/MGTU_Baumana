{
 "cells": [
  {
   "cell_type": "markdown",
   "id": "caae1f0b-850d-4911-b8c7-99ac5ff3f5af",
   "metadata": {},
   "source": [
    "# импорт библиотек"
   ]
  },
  {
   "cell_type": "code",
   "execution_count": 256,
   "id": "16078ced-a9b0-4977-b6e5-d6859937484c",
   "metadata": {},
   "outputs": [],
   "source": [
    "import numpy as np # библиотека для работы с массивами данных + мат. функции для их обработки \n",
    "import pandas as pd # библиотека для чтения датафрейма \n",
    "\n",
    "%matplotlib inline \n",
    "import matplotlib.pyplot as plt # визуализация данных \n",
    "import seaborn as sns # библиотека для создания стат. графиков\n",
    "\n",
    "\n",
    "%config InlineBackend.figure_format = 'retina' # для более четкой отрисовки графиков"
   ]
  },
  {
   "cell_type": "code",
   "execution_count": 257,
   "id": "ed9fe79c-085e-42e5-8f0f-7d7abf889d16",
   "metadata": {},
   "outputs": [
    {
     "data": {
      "text/plain": [
       "(1023, 10)"
      ]
     },
     "execution_count": 257,
     "metadata": {},
     "output_type": "execute_result"
    }
   ],
   "source": [
    "ds1 = pd.read_excel('X_bp.xlsx', index_col=0) # index_col - установка столбца в качестве индекса\n",
    "ds1.shape"
   ]
  },
  {
   "cell_type": "code",
   "execution_count": 258,
   "id": "221e3207-4314-46da-b865-58fc006e6a2d",
   "metadata": {},
   "outputs": [
    {
     "data": {
      "text/plain": [
       "(1040, 3)"
      ]
     },
     "execution_count": 258,
     "metadata": {},
     "output_type": "execute_result"
    }
   ],
   "source": [
    "ds2 = pd.read_excel('X_nup.xlsx', index_col=0) # index_col - установка столбца в качестве индекса\n",
    "ds2.shape"
   ]
  },
  {
   "cell_type": "markdown",
   "id": "b4215cee-b6d5-4327-b672-59e77ffdeb90",
   "metadata": {},
   "source": [
    "# объединение датасетов"
   ]
  },
  {
   "cell_type": "code",
   "execution_count": 259,
   "id": "f9cd8e20-d4ab-477c-87d3-8c5d540ee510",
   "metadata": {},
   "outputs": [],
   "source": [
    "ds = ds1.merge(ds2, how='inner', left_index=True, right_index=True)"
   ]
  },
  {
   "cell_type": "markdown",
   "id": "2d79c996-973c-45a3-8864-97c6808fe86a",
   "metadata": {},
   "source": [
    "# просмотр данных датасета"
   ]
  },
  {
   "cell_type": "code",
   "execution_count": 260,
   "id": "06b96636-c5e6-4ca3-b315-83f9826b0039",
   "metadata": {},
   "outputs": [
    {
     "data": {
      "text/html": [
       "<div>\n",
       "<style scoped>\n",
       "    .dataframe tbody tr th:only-of-type {\n",
       "        vertical-align: middle;\n",
       "    }\n",
       "\n",
       "    .dataframe tbody tr th {\n",
       "        vertical-align: top;\n",
       "    }\n",
       "\n",
       "    .dataframe thead th {\n",
       "        text-align: right;\n",
       "    }\n",
       "</style>\n",
       "<table border=\"1\" class=\"dataframe\">\n",
       "  <thead>\n",
       "    <tr style=\"text-align: right;\">\n",
       "      <th></th>\n",
       "      <th>Соотношение матрица-наполнитель</th>\n",
       "      <th>Плотность, кг/м3</th>\n",
       "      <th>модуль упругости, ГПа</th>\n",
       "      <th>Количество отвердителя, м.%</th>\n",
       "      <th>Содержание эпоксидных групп,%_2</th>\n",
       "      <th>Температура вспышки, С_2</th>\n",
       "      <th>Поверхностная плотность, г/м2</th>\n",
       "      <th>Модуль упругости при растяжении, ГПа</th>\n",
       "      <th>Прочность при растяжении, МПа</th>\n",
       "      <th>Потребление смолы, г/м2</th>\n",
       "      <th>Угол нашивки, град</th>\n",
       "      <th>Шаг нашивки</th>\n",
       "      <th>Плотность нашивки</th>\n",
       "    </tr>\n",
       "  </thead>\n",
       "  <tbody>\n",
       "    <tr>\n",
       "      <th>0</th>\n",
       "      <td>1.857143</td>\n",
       "      <td>2030.0</td>\n",
       "      <td>738.736842</td>\n",
       "      <td>30.00</td>\n",
       "      <td>22.267857</td>\n",
       "      <td>100.000000</td>\n",
       "      <td>210.0</td>\n",
       "      <td>70.0</td>\n",
       "      <td>3000.0</td>\n",
       "      <td>220.0</td>\n",
       "      <td>0</td>\n",
       "      <td>4.0</td>\n",
       "      <td>57.0</td>\n",
       "    </tr>\n",
       "    <tr>\n",
       "      <th>1</th>\n",
       "      <td>1.857143</td>\n",
       "      <td>2030.0</td>\n",
       "      <td>738.736842</td>\n",
       "      <td>50.00</td>\n",
       "      <td>23.750000</td>\n",
       "      <td>284.615385</td>\n",
       "      <td>210.0</td>\n",
       "      <td>70.0</td>\n",
       "      <td>3000.0</td>\n",
       "      <td>220.0</td>\n",
       "      <td>0</td>\n",
       "      <td>4.0</td>\n",
       "      <td>60.0</td>\n",
       "    </tr>\n",
       "    <tr>\n",
       "      <th>2</th>\n",
       "      <td>1.857143</td>\n",
       "      <td>2030.0</td>\n",
       "      <td>738.736842</td>\n",
       "      <td>49.90</td>\n",
       "      <td>33.000000</td>\n",
       "      <td>284.615385</td>\n",
       "      <td>210.0</td>\n",
       "      <td>70.0</td>\n",
       "      <td>3000.0</td>\n",
       "      <td>220.0</td>\n",
       "      <td>0</td>\n",
       "      <td>4.0</td>\n",
       "      <td>70.0</td>\n",
       "    </tr>\n",
       "    <tr>\n",
       "      <th>3</th>\n",
       "      <td>1.857143</td>\n",
       "      <td>2030.0</td>\n",
       "      <td>738.736842</td>\n",
       "      <td>129.00</td>\n",
       "      <td>21.250000</td>\n",
       "      <td>300.000000</td>\n",
       "      <td>210.0</td>\n",
       "      <td>70.0</td>\n",
       "      <td>3000.0</td>\n",
       "      <td>220.0</td>\n",
       "      <td>0</td>\n",
       "      <td>5.0</td>\n",
       "      <td>47.0</td>\n",
       "    </tr>\n",
       "    <tr>\n",
       "      <th>4</th>\n",
       "      <td>2.771331</td>\n",
       "      <td>2030.0</td>\n",
       "      <td>753.000000</td>\n",
       "      <td>111.86</td>\n",
       "      <td>22.267857</td>\n",
       "      <td>284.615385</td>\n",
       "      <td>210.0</td>\n",
       "      <td>70.0</td>\n",
       "      <td>3000.0</td>\n",
       "      <td>220.0</td>\n",
       "      <td>0</td>\n",
       "      <td>5.0</td>\n",
       "      <td>57.0</td>\n",
       "    </tr>\n",
       "  </tbody>\n",
       "</table>\n",
       "</div>"
      ],
      "text/plain": [
       "   Соотношение матрица-наполнитель  Плотность, кг/м3  модуль упругости, ГПа  \\\n",
       "0                         1.857143            2030.0             738.736842   \n",
       "1                         1.857143            2030.0             738.736842   \n",
       "2                         1.857143            2030.0             738.736842   \n",
       "3                         1.857143            2030.0             738.736842   \n",
       "4                         2.771331            2030.0             753.000000   \n",
       "\n",
       "   Количество отвердителя, м.%  Содержание эпоксидных групп,%_2  \\\n",
       "0                        30.00                        22.267857   \n",
       "1                        50.00                        23.750000   \n",
       "2                        49.90                        33.000000   \n",
       "3                       129.00                        21.250000   \n",
       "4                       111.86                        22.267857   \n",
       "\n",
       "   Температура вспышки, С_2  Поверхностная плотность, г/м2  \\\n",
       "0                100.000000                          210.0   \n",
       "1                284.615385                          210.0   \n",
       "2                284.615385                          210.0   \n",
       "3                300.000000                          210.0   \n",
       "4                284.615385                          210.0   \n",
       "\n",
       "   Модуль упругости при растяжении, ГПа  Прочность при растяжении, МПа  \\\n",
       "0                                  70.0                         3000.0   \n",
       "1                                  70.0                         3000.0   \n",
       "2                                  70.0                         3000.0   \n",
       "3                                  70.0                         3000.0   \n",
       "4                                  70.0                         3000.0   \n",
       "\n",
       "   Потребление смолы, г/м2  Угол нашивки, град  Шаг нашивки  Плотность нашивки  \n",
       "0                    220.0                   0          4.0               57.0  \n",
       "1                    220.0                   0          4.0               60.0  \n",
       "2                    220.0                   0          4.0               70.0  \n",
       "3                    220.0                   0          5.0               47.0  \n",
       "4                    220.0                   0          5.0               57.0  "
      ]
     },
     "execution_count": 260,
     "metadata": {},
     "output_type": "execute_result"
    }
   ],
   "source": [
    "ds.head()"
   ]
  },
  {
   "cell_type": "code",
   "execution_count": 261,
   "id": "83d84254-585d-4fc1-9733-d9d246e9418f",
   "metadata": {},
   "outputs": [
    {
     "data": {
      "text/html": [
       "<div>\n",
       "<style scoped>\n",
       "    .dataframe tbody tr th:only-of-type {\n",
       "        vertical-align: middle;\n",
       "    }\n",
       "\n",
       "    .dataframe tbody tr th {\n",
       "        vertical-align: top;\n",
       "    }\n",
       "\n",
       "    .dataframe thead th {\n",
       "        text-align: right;\n",
       "    }\n",
       "</style>\n",
       "<table border=\"1\" class=\"dataframe\">\n",
       "  <thead>\n",
       "    <tr style=\"text-align: right;\">\n",
       "      <th></th>\n",
       "      <th>Соотношение матрица-наполнитель</th>\n",
       "      <th>Плотность, кг/м3</th>\n",
       "      <th>модуль упругости, ГПа</th>\n",
       "      <th>Количество отвердителя, м.%</th>\n",
       "      <th>Содержание эпоксидных групп,%_2</th>\n",
       "      <th>Температура вспышки, С_2</th>\n",
       "      <th>Поверхностная плотность, г/м2</th>\n",
       "      <th>Модуль упругости при растяжении, ГПа</th>\n",
       "      <th>Прочность при растяжении, МПа</th>\n",
       "      <th>Потребление смолы, г/м2</th>\n",
       "      <th>Угол нашивки, град</th>\n",
       "      <th>Шаг нашивки</th>\n",
       "      <th>Плотность нашивки</th>\n",
       "    </tr>\n",
       "  </thead>\n",
       "  <tbody>\n",
       "    <tr>\n",
       "      <th>1018</th>\n",
       "      <td>2.271346</td>\n",
       "      <td>1952.087902</td>\n",
       "      <td>912.855545</td>\n",
       "      <td>86.992183</td>\n",
       "      <td>20.123249</td>\n",
       "      <td>324.774576</td>\n",
       "      <td>209.198700</td>\n",
       "      <td>73.090961</td>\n",
       "      <td>2387.292495</td>\n",
       "      <td>125.007669</td>\n",
       "      <td>90</td>\n",
       "      <td>9.076380</td>\n",
       "      <td>47.019770</td>\n",
       "    </tr>\n",
       "    <tr>\n",
       "      <th>1019</th>\n",
       "      <td>3.444022</td>\n",
       "      <td>2050.089171</td>\n",
       "      <td>444.732634</td>\n",
       "      <td>145.981978</td>\n",
       "      <td>19.599769</td>\n",
       "      <td>254.215401</td>\n",
       "      <td>350.660830</td>\n",
       "      <td>72.920827</td>\n",
       "      <td>2360.392784</td>\n",
       "      <td>117.730099</td>\n",
       "      <td>90</td>\n",
       "      <td>10.565614</td>\n",
       "      <td>53.750790</td>\n",
       "    </tr>\n",
       "    <tr>\n",
       "      <th>1020</th>\n",
       "      <td>3.280604</td>\n",
       "      <td>1972.372865</td>\n",
       "      <td>416.836524</td>\n",
       "      <td>110.533477</td>\n",
       "      <td>23.957502</td>\n",
       "      <td>248.423047</td>\n",
       "      <td>740.142791</td>\n",
       "      <td>74.734344</td>\n",
       "      <td>2662.906040</td>\n",
       "      <td>236.606764</td>\n",
       "      <td>90</td>\n",
       "      <td>4.161154</td>\n",
       "      <td>67.629684</td>\n",
       "    </tr>\n",
       "    <tr>\n",
       "      <th>1021</th>\n",
       "      <td>3.705351</td>\n",
       "      <td>2066.799773</td>\n",
       "      <td>741.475517</td>\n",
       "      <td>141.397963</td>\n",
       "      <td>19.246945</td>\n",
       "      <td>275.779840</td>\n",
       "      <td>641.468152</td>\n",
       "      <td>74.042708</td>\n",
       "      <td>2071.715856</td>\n",
       "      <td>197.126067</td>\n",
       "      <td>90</td>\n",
       "      <td>6.313201</td>\n",
       "      <td>58.261074</td>\n",
       "    </tr>\n",
       "    <tr>\n",
       "      <th>1022</th>\n",
       "      <td>3.808020</td>\n",
       "      <td>1890.413468</td>\n",
       "      <td>417.316232</td>\n",
       "      <td>129.183416</td>\n",
       "      <td>27.474763</td>\n",
       "      <td>300.952708</td>\n",
       "      <td>758.747882</td>\n",
       "      <td>74.309704</td>\n",
       "      <td>2856.328932</td>\n",
       "      <td>194.754342</td>\n",
       "      <td>90</td>\n",
       "      <td>6.078902</td>\n",
       "      <td>77.434468</td>\n",
       "    </tr>\n",
       "  </tbody>\n",
       "</table>\n",
       "</div>"
      ],
      "text/plain": [
       "      Соотношение матрица-наполнитель  Плотность, кг/м3  \\\n",
       "1018                         2.271346       1952.087902   \n",
       "1019                         3.444022       2050.089171   \n",
       "1020                         3.280604       1972.372865   \n",
       "1021                         3.705351       2066.799773   \n",
       "1022                         3.808020       1890.413468   \n",
       "\n",
       "      модуль упругости, ГПа  Количество отвердителя, м.%  \\\n",
       "1018             912.855545                    86.992183   \n",
       "1019             444.732634                   145.981978   \n",
       "1020             416.836524                   110.533477   \n",
       "1021             741.475517                   141.397963   \n",
       "1022             417.316232                   129.183416   \n",
       "\n",
       "      Содержание эпоксидных групп,%_2  Температура вспышки, С_2  \\\n",
       "1018                        20.123249                324.774576   \n",
       "1019                        19.599769                254.215401   \n",
       "1020                        23.957502                248.423047   \n",
       "1021                        19.246945                275.779840   \n",
       "1022                        27.474763                300.952708   \n",
       "\n",
       "      Поверхностная плотность, г/м2  Модуль упругости при растяжении, ГПа  \\\n",
       "1018                     209.198700                             73.090961   \n",
       "1019                     350.660830                             72.920827   \n",
       "1020                     740.142791                             74.734344   \n",
       "1021                     641.468152                             74.042708   \n",
       "1022                     758.747882                             74.309704   \n",
       "\n",
       "      Прочность при растяжении, МПа  Потребление смолы, г/м2  \\\n",
       "1018                    2387.292495               125.007669   \n",
       "1019                    2360.392784               117.730099   \n",
       "1020                    2662.906040               236.606764   \n",
       "1021                    2071.715856               197.126067   \n",
       "1022                    2856.328932               194.754342   \n",
       "\n",
       "      Угол нашивки, град  Шаг нашивки  Плотность нашивки  \n",
       "1018                  90     9.076380          47.019770  \n",
       "1019                  90    10.565614          53.750790  \n",
       "1020                  90     4.161154          67.629684  \n",
       "1021                  90     6.313201          58.261074  \n",
       "1022                  90     6.078902          77.434468  "
      ]
     },
     "execution_count": 261,
     "metadata": {},
     "output_type": "execute_result"
    }
   ],
   "source": [
    "ds.tail() # последние строчки датасета"
   ]
  },
  {
   "cell_type": "code",
   "execution_count": 262,
   "id": "01cfe7bb-3080-4410-b875-0b2e76d3a9f3",
   "metadata": {},
   "outputs": [
    {
     "data": {
      "text/plain": [
       "(1023, 13)"
      ]
     },
     "execution_count": 262,
     "metadata": {},
     "output_type": "execute_result"
    }
   ],
   "source": [
    "ds.shape"
   ]
  },
  {
   "cell_type": "code",
   "execution_count": 263,
   "id": "0c2ebd5a-4abb-446b-83c8-6c595642395b",
   "metadata": {},
   "outputs": [
    {
     "data": {
      "text/html": [
       "<style type=\"text/css\">\n",
       "</style>\n",
       "<table id=\"T_c50d4\">\n",
       "  <thead>\n",
       "    <tr>\n",
       "      <th class=\"blank level0\" >&nbsp;</th>\n",
       "      <th id=\"T_c50d4_level0_col0\" class=\"col_heading level0 col0\" >count</th>\n",
       "      <th id=\"T_c50d4_level0_col1\" class=\"col_heading level0 col1\" >mean</th>\n",
       "      <th id=\"T_c50d4_level0_col2\" class=\"col_heading level0 col2\" >std</th>\n",
       "      <th id=\"T_c50d4_level0_col3\" class=\"col_heading level0 col3\" >min</th>\n",
       "      <th id=\"T_c50d4_level0_col4\" class=\"col_heading level0 col4\" >25%</th>\n",
       "      <th id=\"T_c50d4_level0_col5\" class=\"col_heading level0 col5\" >50%</th>\n",
       "      <th id=\"T_c50d4_level0_col6\" class=\"col_heading level0 col6\" >75%</th>\n",
       "      <th id=\"T_c50d4_level0_col7\" class=\"col_heading level0 col7\" >max</th>\n",
       "      <th id=\"T_c50d4_level0_col8\" class=\"col_heading level0 col8\" >median</th>\n",
       "    </tr>\n",
       "  </thead>\n",
       "  <tbody>\n",
       "    <tr>\n",
       "      <th id=\"T_c50d4_level0_row0\" class=\"row_heading level0 row0\" >Соотношение матрица-наполнитель</th>\n",
       "      <td id=\"T_c50d4_row0_col0\" class=\"data row0 col0\" >1023.0000</td>\n",
       "      <td id=\"T_c50d4_row0_col1\" class=\"data row0 col1\" >2.9304</td>\n",
       "      <td id=\"T_c50d4_row0_col2\" class=\"data row0 col2\" >0.9132</td>\n",
       "      <td id=\"T_c50d4_row0_col3\" class=\"data row0 col3\" >0.3894</td>\n",
       "      <td id=\"T_c50d4_row0_col4\" class=\"data row0 col4\" >2.3179</td>\n",
       "      <td id=\"T_c50d4_row0_col5\" class=\"data row0 col5\" >2.9069</td>\n",
       "      <td id=\"T_c50d4_row0_col6\" class=\"data row0 col6\" >3.5527</td>\n",
       "      <td id=\"T_c50d4_row0_col7\" class=\"data row0 col7\" >5.5917</td>\n",
       "      <td id=\"T_c50d4_row0_col8\" class=\"data row0 col8\" >2.9069</td>\n",
       "    </tr>\n",
       "    <tr>\n",
       "      <th id=\"T_c50d4_level0_row1\" class=\"row_heading level0 row1\" >Плотность, кг/м3</th>\n",
       "      <td id=\"T_c50d4_row1_col0\" class=\"data row1 col0\" >1023.0000</td>\n",
       "      <td id=\"T_c50d4_row1_col1\" class=\"data row1 col1\" >1975.7349</td>\n",
       "      <td id=\"T_c50d4_row1_col2\" class=\"data row1 col2\" >73.7292</td>\n",
       "      <td id=\"T_c50d4_row1_col3\" class=\"data row1 col3\" >1731.7646</td>\n",
       "      <td id=\"T_c50d4_row1_col4\" class=\"data row1 col4\" >1924.1555</td>\n",
       "      <td id=\"T_c50d4_row1_col5\" class=\"data row1 col5\" >1977.6217</td>\n",
       "      <td id=\"T_c50d4_row1_col6\" class=\"data row1 col6\" >2021.3744</td>\n",
       "      <td id=\"T_c50d4_row1_col7\" class=\"data row1 col7\" >2207.7735</td>\n",
       "      <td id=\"T_c50d4_row1_col8\" class=\"data row1 col8\" >1977.6217</td>\n",
       "    </tr>\n",
       "    <tr>\n",
       "      <th id=\"T_c50d4_level0_row2\" class=\"row_heading level0 row2\" >модуль упругости, ГПа</th>\n",
       "      <td id=\"T_c50d4_row2_col0\" class=\"data row2 col0\" >1023.0000</td>\n",
       "      <td id=\"T_c50d4_row2_col1\" class=\"data row2 col1\" >739.9232</td>\n",
       "      <td id=\"T_c50d4_row2_col2\" class=\"data row2 col2\" >330.2316</td>\n",
       "      <td id=\"T_c50d4_row2_col3\" class=\"data row2 col3\" >2.4369</td>\n",
       "      <td id=\"T_c50d4_row2_col4\" class=\"data row2 col4\" >500.0475</td>\n",
       "      <td id=\"T_c50d4_row2_col5\" class=\"data row2 col5\" >739.6643</td>\n",
       "      <td id=\"T_c50d4_row2_col6\" class=\"data row2 col6\" >961.8125</td>\n",
       "      <td id=\"T_c50d4_row2_col7\" class=\"data row2 col7\" >1911.5365</td>\n",
       "      <td id=\"T_c50d4_row2_col8\" class=\"data row2 col8\" >739.6643</td>\n",
       "    </tr>\n",
       "    <tr>\n",
       "      <th id=\"T_c50d4_level0_row3\" class=\"row_heading level0 row3\" >Количество отвердителя, м.%</th>\n",
       "      <td id=\"T_c50d4_row3_col0\" class=\"data row3 col0\" >1023.0000</td>\n",
       "      <td id=\"T_c50d4_row3_col1\" class=\"data row3 col1\" >110.5708</td>\n",
       "      <td id=\"T_c50d4_row3_col2\" class=\"data row3 col2\" >28.2959</td>\n",
       "      <td id=\"T_c50d4_row3_col3\" class=\"data row3 col3\" >17.7403</td>\n",
       "      <td id=\"T_c50d4_row3_col4\" class=\"data row3 col4\" >92.4435</td>\n",
       "      <td id=\"T_c50d4_row3_col5\" class=\"data row3 col5\" >110.5648</td>\n",
       "      <td id=\"T_c50d4_row3_col6\" class=\"data row3 col6\" >129.7304</td>\n",
       "      <td id=\"T_c50d4_row3_col7\" class=\"data row3 col7\" >198.9532</td>\n",
       "      <td id=\"T_c50d4_row3_col8\" class=\"data row3 col8\" >110.5648</td>\n",
       "    </tr>\n",
       "    <tr>\n",
       "      <th id=\"T_c50d4_level0_row4\" class=\"row_heading level0 row4\" >Содержание эпоксидных групп,%_2</th>\n",
       "      <td id=\"T_c50d4_row4_col0\" class=\"data row4 col0\" >1023.0000</td>\n",
       "      <td id=\"T_c50d4_row4_col1\" class=\"data row4 col1\" >22.2444</td>\n",
       "      <td id=\"T_c50d4_row4_col2\" class=\"data row4 col2\" >2.4063</td>\n",
       "      <td id=\"T_c50d4_row4_col3\" class=\"data row4 col3\" >14.2550</td>\n",
       "      <td id=\"T_c50d4_row4_col4\" class=\"data row4 col4\" >20.6080</td>\n",
       "      <td id=\"T_c50d4_row4_col5\" class=\"data row4 col5\" >22.2307</td>\n",
       "      <td id=\"T_c50d4_row4_col6\" class=\"data row4 col6\" >23.9619</td>\n",
       "      <td id=\"T_c50d4_row4_col7\" class=\"data row4 col7\" >33.0000</td>\n",
       "      <td id=\"T_c50d4_row4_col8\" class=\"data row4 col8\" >22.2307</td>\n",
       "    </tr>\n",
       "    <tr>\n",
       "      <th id=\"T_c50d4_level0_row5\" class=\"row_heading level0 row5\" >Температура вспышки, С_2</th>\n",
       "      <td id=\"T_c50d4_row5_col0\" class=\"data row5 col0\" >1023.0000</td>\n",
       "      <td id=\"T_c50d4_row5_col1\" class=\"data row5 col1\" >285.8822</td>\n",
       "      <td id=\"T_c50d4_row5_col2\" class=\"data row5 col2\" >40.9433</td>\n",
       "      <td id=\"T_c50d4_row5_col3\" class=\"data row5 col3\" >100.0000</td>\n",
       "      <td id=\"T_c50d4_row5_col4\" class=\"data row5 col4\" >259.0665</td>\n",
       "      <td id=\"T_c50d4_row5_col5\" class=\"data row5 col5\" >285.8968</td>\n",
       "      <td id=\"T_c50d4_row5_col6\" class=\"data row5 col6\" >313.0021</td>\n",
       "      <td id=\"T_c50d4_row5_col7\" class=\"data row5 col7\" >413.2734</td>\n",
       "      <td id=\"T_c50d4_row5_col8\" class=\"data row5 col8\" >285.8968</td>\n",
       "    </tr>\n",
       "    <tr>\n",
       "      <th id=\"T_c50d4_level0_row6\" class=\"row_heading level0 row6\" >Поверхностная плотность, г/м2</th>\n",
       "      <td id=\"T_c50d4_row6_col0\" class=\"data row6 col0\" >1023.0000</td>\n",
       "      <td id=\"T_c50d4_row6_col1\" class=\"data row6 col1\" >482.7318</td>\n",
       "      <td id=\"T_c50d4_row6_col2\" class=\"data row6 col2\" >281.3147</td>\n",
       "      <td id=\"T_c50d4_row6_col3\" class=\"data row6 col3\" >0.6037</td>\n",
       "      <td id=\"T_c50d4_row6_col4\" class=\"data row6 col4\" >266.8166</td>\n",
       "      <td id=\"T_c50d4_row6_col5\" class=\"data row6 col5\" >451.8644</td>\n",
       "      <td id=\"T_c50d4_row6_col6\" class=\"data row6 col6\" >693.2250</td>\n",
       "      <td id=\"T_c50d4_row6_col7\" class=\"data row6 col7\" >1399.5424</td>\n",
       "      <td id=\"T_c50d4_row6_col8\" class=\"data row6 col8\" >451.8644</td>\n",
       "    </tr>\n",
       "    <tr>\n",
       "      <th id=\"T_c50d4_level0_row7\" class=\"row_heading level0 row7\" >Модуль упругости при растяжении, ГПа</th>\n",
       "      <td id=\"T_c50d4_row7_col0\" class=\"data row7 col0\" >1023.0000</td>\n",
       "      <td id=\"T_c50d4_row7_col1\" class=\"data row7 col1\" >73.3286</td>\n",
       "      <td id=\"T_c50d4_row7_col2\" class=\"data row7 col2\" >3.1190</td>\n",
       "      <td id=\"T_c50d4_row7_col3\" class=\"data row7 col3\" >64.0541</td>\n",
       "      <td id=\"T_c50d4_row7_col4\" class=\"data row7 col4\" >71.2450</td>\n",
       "      <td id=\"T_c50d4_row7_col5\" class=\"data row7 col5\" >73.2688</td>\n",
       "      <td id=\"T_c50d4_row7_col6\" class=\"data row7 col6\" >75.3566</td>\n",
       "      <td id=\"T_c50d4_row7_col7\" class=\"data row7 col7\" >82.6821</td>\n",
       "      <td id=\"T_c50d4_row7_col8\" class=\"data row7 col8\" >73.2688</td>\n",
       "    </tr>\n",
       "    <tr>\n",
       "      <th id=\"T_c50d4_level0_row8\" class=\"row_heading level0 row8\" >Прочность при растяжении, МПа</th>\n",
       "      <td id=\"T_c50d4_row8_col0\" class=\"data row8 col0\" >1023.0000</td>\n",
       "      <td id=\"T_c50d4_row8_col1\" class=\"data row8 col1\" >2466.9228</td>\n",
       "      <td id=\"T_c50d4_row8_col2\" class=\"data row8 col2\" >485.6280</td>\n",
       "      <td id=\"T_c50d4_row8_col3\" class=\"data row8 col3\" >1036.8566</td>\n",
       "      <td id=\"T_c50d4_row8_col4\" class=\"data row8 col4\" >2135.8504</td>\n",
       "      <td id=\"T_c50d4_row8_col5\" class=\"data row8 col5\" >2459.5245</td>\n",
       "      <td id=\"T_c50d4_row8_col6\" class=\"data row8 col6\" >2767.1931</td>\n",
       "      <td id=\"T_c50d4_row8_col7\" class=\"data row8 col7\" >3848.4367</td>\n",
       "      <td id=\"T_c50d4_row8_col8\" class=\"data row8 col8\" >2459.5245</td>\n",
       "    </tr>\n",
       "    <tr>\n",
       "      <th id=\"T_c50d4_level0_row9\" class=\"row_heading level0 row9\" >Потребление смолы, г/м2</th>\n",
       "      <td id=\"T_c50d4_row9_col0\" class=\"data row9 col0\" >1023.0000</td>\n",
       "      <td id=\"T_c50d4_row9_col1\" class=\"data row9 col1\" >218.4231</td>\n",
       "      <td id=\"T_c50d4_row9_col2\" class=\"data row9 col2\" >59.7359</td>\n",
       "      <td id=\"T_c50d4_row9_col3\" class=\"data row9 col3\" >33.8030</td>\n",
       "      <td id=\"T_c50d4_row9_col4\" class=\"data row9 col4\" >179.6275</td>\n",
       "      <td id=\"T_c50d4_row9_col5\" class=\"data row9 col5\" >219.1989</td>\n",
       "      <td id=\"T_c50d4_row9_col6\" class=\"data row9 col6\" >257.4817</td>\n",
       "      <td id=\"T_c50d4_row9_col7\" class=\"data row9 col7\" >414.5906</td>\n",
       "      <td id=\"T_c50d4_row9_col8\" class=\"data row9 col8\" >219.1989</td>\n",
       "    </tr>\n",
       "    <tr>\n",
       "      <th id=\"T_c50d4_level0_row10\" class=\"row_heading level0 row10\" >Угол нашивки, град</th>\n",
       "      <td id=\"T_c50d4_row10_col0\" class=\"data row10 col0\" >1023.0000</td>\n",
       "      <td id=\"T_c50d4_row10_col1\" class=\"data row10 col1\" >44.2522</td>\n",
       "      <td id=\"T_c50d4_row10_col2\" class=\"data row10 col2\" >45.0158</td>\n",
       "      <td id=\"T_c50d4_row10_col3\" class=\"data row10 col3\" >0.0000</td>\n",
       "      <td id=\"T_c50d4_row10_col4\" class=\"data row10 col4\" >0.0000</td>\n",
       "      <td id=\"T_c50d4_row10_col5\" class=\"data row10 col5\" >0.0000</td>\n",
       "      <td id=\"T_c50d4_row10_col6\" class=\"data row10 col6\" >90.0000</td>\n",
       "      <td id=\"T_c50d4_row10_col7\" class=\"data row10 col7\" >90.0000</td>\n",
       "      <td id=\"T_c50d4_row10_col8\" class=\"data row10 col8\" >0.0000</td>\n",
       "    </tr>\n",
       "    <tr>\n",
       "      <th id=\"T_c50d4_level0_row11\" class=\"row_heading level0 row11\" >Шаг нашивки</th>\n",
       "      <td id=\"T_c50d4_row11_col0\" class=\"data row11 col0\" >1023.0000</td>\n",
       "      <td id=\"T_c50d4_row11_col1\" class=\"data row11 col1\" >6.8992</td>\n",
       "      <td id=\"T_c50d4_row11_col2\" class=\"data row11 col2\" >2.5635</td>\n",
       "      <td id=\"T_c50d4_row11_col3\" class=\"data row11 col3\" >0.0000</td>\n",
       "      <td id=\"T_c50d4_row11_col4\" class=\"data row11 col4\" >5.0800</td>\n",
       "      <td id=\"T_c50d4_row11_col5\" class=\"data row11 col5\" >6.9161</td>\n",
       "      <td id=\"T_c50d4_row11_col6\" class=\"data row11 col6\" >8.5863</td>\n",
       "      <td id=\"T_c50d4_row11_col7\" class=\"data row11 col7\" >14.4405</td>\n",
       "      <td id=\"T_c50d4_row11_col8\" class=\"data row11 col8\" >6.9161</td>\n",
       "    </tr>\n",
       "    <tr>\n",
       "      <th id=\"T_c50d4_level0_row12\" class=\"row_heading level0 row12\" >Плотность нашивки</th>\n",
       "      <td id=\"T_c50d4_row12_col0\" class=\"data row12 col0\" >1023.0000</td>\n",
       "      <td id=\"T_c50d4_row12_col1\" class=\"data row12 col1\" >57.1539</td>\n",
       "      <td id=\"T_c50d4_row12_col2\" class=\"data row12 col2\" >12.3510</td>\n",
       "      <td id=\"T_c50d4_row12_col3\" class=\"data row12 col3\" >0.0000</td>\n",
       "      <td id=\"T_c50d4_row12_col4\" class=\"data row12 col4\" >49.7992</td>\n",
       "      <td id=\"T_c50d4_row12_col5\" class=\"data row12 col5\" >57.3419</td>\n",
       "      <td id=\"T_c50d4_row12_col6\" class=\"data row12 col6\" >64.9450</td>\n",
       "      <td id=\"T_c50d4_row12_col7\" class=\"data row12 col7\" >103.9889</td>\n",
       "      <td id=\"T_c50d4_row12_col8\" class=\"data row12 col8\" >57.3419</td>\n",
       "    </tr>\n",
       "  </tbody>\n",
       "</table>\n"
      ],
      "text/plain": [
       "<pandas.io.formats.style.Styler at 0x27a05f14c40>"
      ]
     },
     "execution_count": 263,
     "metadata": {},
     "output_type": "execute_result"
    }
   ],
   "source": [
    "# основные статистические характеристики данных по каждому числовому признаку\n",
    "ds_descr = ds.describe().T\n",
    "ds_descr['median'] = ds.median()\n",
    "ds_descr.style.format(precision=4)"
   ]
  },
  {
   "cell_type": "code",
   "execution_count": null,
   "id": "83ff9696-50b5-4b80-8c83-621e13e3dc13",
   "metadata": {},
   "outputs": [],
   "source": [
    "ds.info()"
   ]
  },
  {
   "cell_type": "code",
   "execution_count": null,
   "id": "edf5407b-82e7-4aa9-9a0a-0a16870405ec",
   "metadata": {},
   "outputs": [],
   "source": [
    "ds.isnull().sum() # пропущенные значения отсутствуют"
   ]
  },
  {
   "cell_type": "code",
   "execution_count": null,
   "id": "627f7610-8692-4942-84e8-228b110bde81",
   "metadata": {},
   "outputs": [],
   "source": [
    "ds.nunique() # привлекает внимание переменная 'угол нашивки', всего 2 уникальных значения, можем преобразовать в бинарный признак, а можем и не преобразовывать :) категориальная фича"
   ]
  },
  {
   "cell_type": "code",
   "execution_count": null,
   "id": "6acc031a-df08-4ba0-a784-d32a64eb00cd",
   "metadata": {},
   "outputs": [],
   "source": [
    "ds = ds.replace({'Угол нашивки, град': {0.0 : 0, 90.0 : 1}})\n",
    "ds['Угол нашивки, град'] = ds['Угол нашивки, град'].astype(int)"
   ]
  },
  {
   "cell_type": "code",
   "execution_count": null,
   "id": "fe734ede-74c9-4813-9421-307bd719d999",
   "metadata": {},
   "outputs": [],
   "source": [
    "# графики распределения и 'ящики с усами' для поиска аномалий (значения вне интерквартильного интервала)"
   ]
  },
  {
   "cell_type": "code",
   "execution_count": null,
   "id": "4e1adb48-e959-47e5-883e-47ec4817233b",
   "metadata": {
    "scrolled": true,
    "tags": []
   },
   "outputs": [],
   "source": [
    "# создадим оба типа графика сразу\n",
    "\n",
    "fig, ax = plt.subplots(13, 2, figsize=(10, 45))\n",
    "for i, col in enumerate(ds.columns):    \n",
    "    sns.histplot(data=ds, x=col, kde=True, ax=ax[i, 0])\n",
    "    sns.boxplot(data=ds, x=col, ax=ax[i, 1])\n",
    "plt.savefig('data_before')\n",
    "plt.show()"
   ]
  },
  {
   "cell_type": "code",
   "execution_count": null,
   "id": "ffd989df-e240-4ba6-833d-60e1cd22b2a2",
   "metadata": {
    "scrolled": true,
    "tags": []
   },
   "outputs": [],
   "source": [
    "corr = ds.corr()\n",
    "fig, ax = plt.subplots(figsize=(11, 9))\n",
    "sns.heatmap(corr, annot=True, square=True, cmap='coolwarm');\n",
    "plt.xticks(rotation=45, ha='right')\n",
    "plt.savefig('data_corr_before')\n",
    "plt.show()"
   ]
  },
  {
   "cell_type": "raw",
   "id": "9bc8182a-1cc5-4ddc-8de5-719aee464f4c",
   "metadata": {},
   "source": [
    "# посмотрим распределение целевого признака\n",
    "\n",
    "fig, ax = plt.subplots(figsize=(6, 3))\n",
    "sns.countplot(x=ds['модуль упругости, ГПа']).set_title('Распределение целевого признака');"
   ]
  },
  {
   "cell_type": "raw",
   "id": "2deef3e0-b0d7-42fd-a5a2-1214d4ac3db3",
   "metadata": {},
   "source": [
    "print('В датасете целевой класс распределен: \\n{}'.format(ds['модуль упругости, ГПа'].value_counts()))"
   ]
  },
  {
   "cell_type": "code",
   "execution_count": null,
   "id": "897475e3-5fdf-4744-a06d-6db969e16570",
   "metadata": {},
   "outputs": [],
   "source": [
    "# попарные графики рассеяния \n",
    "sns.pairplot(ds, height=2);\n",
    "plt.savefig('data_rass')\n",
    "plt.show()"
   ]
  },
  {
   "cell_type": "markdown",
   "id": "914dd6fe-d32e-453a-b386-e0c46e21a674",
   "metadata": {},
   "source": [
    "# работа с выбросами "
   ]
  },
  {
   "cell_type": "code",
   "execution_count": null,
   "id": "6fdbbc8f-ebac-457e-87f6-5b4f1fbf677d",
   "metadata": {},
   "outputs": [],
   "source": [
    "# выбор метода работы с выбросами \n",
    "\n",
    "count_iqr = 0\n",
    "count_3s = 0\n",
    "for column in ds:\n",
    "    d = ds.loc[:, [column]]\n",
    "    \n",
    "# межквартильный размах (IQR) — разница между 75-м процентилем (Q3) и 25-м процентилем (Q1) в наборе данных, он измеряет разброс средних 50% значений.\n",
    "    q1 = np.quantile(ds[column], 0.25)\n",
    "    q3 = np.quantile(ds[column], 0.75)\n",
    "    iqr = q3 - q1\n",
    "    lower = q1 - 1.5 * iqr\n",
    "    upper = q3 + 1.5 * iqr\n",
    "    d['iq'] = (ds[column] <= lower) | (ds[column] >= upper)\n",
    "    count_iqr += d['iq'].sum()\n",
    "    \n",
    "# метод 3-х сигм - число стандартных отклонений, на которое значение наблюдения превышает среднее значение того, что наблюдается или измеряется.\n",
    "    zscore = (ds[column] - ds[column].mean()) / ds[column].std()\n",
    "    d['3s'] = zscore.abs() > 3\n",
    "    count_3s += d['3s'].sum()    \n",
    "    \n",
    "print('Количество выбросов, обнаруженных методом 3-х сигм =', count_3s)\n",
    "print('Количество выбросов, обнаруженных методом межквартильных расстояний =', count_iqr)"
   ]
  },
  {
   "cell_type": "raw",
   "id": "0250393d-53f8-451b-99f6-fe81af8fe6de",
   "metadata": {},
   "source": [
    "# заменить выбросы медианными значениями\n",
    "ds_new = ds.copy()\n",
    "idx_outlier = np.where(ds[column].isin(sample_outliers))[0]\n",
    "#ds_new = ds_new.drop(idx_outlier) # удалить образец с выбросами\n",
    "ds_new.loc[idx_outlier, column] = ds_new[column].median() # заполнение медианным значением"
   ]
  },
  {
   "cell_type": "raw",
   "id": "10403583-bb77-4d93-858f-bedde77e9318",
   "metadata": {},
   "source": [
    "# проверим, что получится после замены на медианные значения\n",
    "fig, ax = plt.subplots(13, 2, figsize=(10, 45))\n",
    "for i, col in enumerate(ds.columns):    \n",
    "    sns.histplot(data=ds_new, x=col, kde=True, ax=ax[i, 0])\n",
    "    sns.boxplot(data=ds_new, x=col, ax=ax[i, 1])\n",
    "plt.show()"
   ]
  },
  {
   "cell_type": "code",
   "execution_count": null,
   "id": "ad5f44d9-2a51-48ae-ac5d-7edcbf320028",
   "metadata": {},
   "outputs": [],
   "source": [
    "# вычисляем квартили и межквартильный диапазон для всех столбцов\n",
    "q1 = ds.quantile(0.25)\n",
    "q3 = ds.quantile(0.75)\n",
    "iqr = q3 - q1\n",
    "\n",
    "# вычисляем нижнюю и верхнюю границы для всех столбцов\n",
    "lower_bound = q1 - 1.5*iqr\n",
    "upper_bound = q3 + 1.5*iqr\n",
    "\n",
    "# находим выбросы для всех столбцов\n",
    "outliers = (ds < lower_bound) | (ds > upper_bound)\n",
    "\n",
    "# считаем кол-во выбросов в каждом столбце\n",
    "outliers_count = outliers.sum()\n",
    "print(outliers_count)"
   ]
  },
  {
   "cell_type": "code",
   "execution_count": null,
   "id": "01e7852b-a648-43fa-bc09-bab19752b60d",
   "metadata": {},
   "outputs": [],
   "source": [
    "ds = ds[~outliers.any(axis=1)]"
   ]
  },
  {
   "cell_type": "code",
   "execution_count": null,
   "id": "81ba9379-6685-44c7-9035-1a02eed9e9eb",
   "metadata": {},
   "outputs": [],
   "source": [
    "ds.shape"
   ]
  },
  {
   "cell_type": "code",
   "execution_count": null,
   "id": "3d8e1615-ca40-45ce-b7fa-d6e2f696b5d9",
   "metadata": {},
   "outputs": [],
   "source": [
    "# проверка 1\n",
    "\n",
    "q1 = ds.quantile(0.25)\n",
    "q3 = ds.quantile(0.75)\n",
    "iqr = q3 - q1\n",
    "\n",
    "lower_bound = q1 - 1.5*iqr\n",
    "upper_bound = q3 + 1.5*iqr\n",
    "\n",
    "outliers = (ds < lower_bound) | (ds > upper_bound)\n",
    "\n",
    "outliers_count = outliers.sum()\n",
    "print(outliers_count)"
   ]
  },
  {
   "cell_type": "code",
   "execution_count": null,
   "id": "00840563-3476-4622-9e5e-44592b6ac9eb",
   "metadata": {},
   "outputs": [],
   "source": [
    "ds = ds[~outliers.any(axis=1)]"
   ]
  },
  {
   "cell_type": "code",
   "execution_count": null,
   "id": "ee02bed9-c7b9-4fa5-8e74-6010ee4be398",
   "metadata": {},
   "outputs": [],
   "source": [
    "ds.shape"
   ]
  },
  {
   "cell_type": "code",
   "execution_count": null,
   "id": "b0f4ba9c-90e2-42e6-b87d-3a4caaf4a3f7",
   "metadata": {},
   "outputs": [],
   "source": [
    "# проверка 2\n",
    "\n",
    "q1 = ds.quantile(0.25)\n",
    "q3 = ds.quantile(0.75)\n",
    "iqr = q3 - q1\n",
    "\n",
    "\n",
    "lower_bound = q1 - 1.5*iqr\n",
    "upper_bound = q3 + 1.5*iqr\n",
    "\n",
    "\n",
    "outliers = (ds < lower_bound) | (ds > upper_bound)\n",
    "\n",
    "outliers_count = outliers.sum()\n",
    "print(outliers_count)"
   ]
  },
  {
   "cell_type": "code",
   "execution_count": null,
   "id": "84002178-0405-49f6-bfaf-d66fa70dc041",
   "metadata": {},
   "outputs": [],
   "source": [
    "ds = ds[~outliers.any(axis=1)]"
   ]
  },
  {
   "cell_type": "code",
   "execution_count": null,
   "id": "4d97c3e5-f87d-4e7b-be71-a62a3b6c7d6b",
   "metadata": {},
   "outputs": [],
   "source": [
    "# проверка 3\n",
    "\n",
    "q1 = ds.quantile(0.25)\n",
    "q3 = ds.quantile(0.75)\n",
    "iqr = q3 - q1\n",
    "\n",
    "lower_bound = q1 - 1.5*iqr\n",
    "upper_bound = q3 + 1.5*iqr\n",
    "\n",
    "outliers = (ds < lower_bound) | (ds > upper_bound)\n",
    "\n",
    "outliers_count = outliers.sum()\n",
    "print(outliers_count)"
   ]
  },
  {
   "cell_type": "code",
   "execution_count": null,
   "id": "e1b6b857-3add-49de-8b01-06f5127e2b27",
   "metadata": {},
   "outputs": [],
   "source": [
    "ds.shape"
   ]
  },
  {
   "cell_type": "code",
   "execution_count": null,
   "id": "2cd089d2-46b7-4403-b74b-66552b24d9f5",
   "metadata": {},
   "outputs": [],
   "source": [
    "corr = ds.corr()\n",
    "fig, ax = plt.subplots(figsize=(11, 9))\n",
    "sns.heatmap(corr, annot=True, square=True, cmap='coolwarm');\n",
    "plt.xticks(rotation=45, ha='right')\n",
    "plt.savefig('data_corr_after')\n",
    "plt.show()"
   ]
  },
  {
   "cell_type": "markdown",
   "id": "6fcc75d2-66c2-4e71-a511-c39ef25e7e7a",
   "metadata": {},
   "source": [
    "# препроцессинг данных"
   ]
  },
  {
   "cell_type": "code",
   "execution_count": null,
   "id": "a31c64d0-0b57-426e-8f84-236259d7482b",
   "metadata": {},
   "outputs": [],
   "source": [
    "from sklearn.preprocessing import StandardScaler, MinMaxScaler, RobustScaler\n",
    "\n",
    "# проверку на нормальность можно проводить несколькими способами\n",
    "# построение гистограммы признака построение QQ-графика проведение теста на нормальность"
   ]
  },
  {
   "cell_type": "code",
   "execution_count": null,
   "id": "4fbc9964-2e66-40f1-a6b6-c1a2f8ceff41",
   "metadata": {},
   "outputs": [],
   "source": [
    "# масштабирование признака, что все значения находится в определенном интервале, по умолчанию - (0,1)\n",
    "min_max_scaler = MinMaxScaler()\n",
    "columns = ds.columns\n",
    "\n",
    "#ds_norm = pd.DataFrame(min_max_scaler.fit_transform(ds))\n",
    "\n",
    "ds_scaler = min_max_scaler.fit_transform(np.array(ds))\n",
    "ds_scaler = pd.DataFrame(ds_scaler, columns=columns)\n",
    "ds_scaler.head()"
   ]
  },
  {
   "cell_type": "code",
   "execution_count": null,
   "id": "7ed46cae-a539-4860-8894-926781c92b13",
   "metadata": {},
   "outputs": [],
   "source": [
    "ds_scaler.describe()"
   ]
  },
  {
   "cell_type": "raw",
   "id": "02b01ebc-6b27-4f1d-8061-b07cab2f7009",
   "metadata": {},
   "source": [
    "# стандартизация признака (вычитание среднего и масштабирование дисперсией)\n",
    "\n",
    "standard_scaler = StandardScaler()\n",
    "columns = ds.columns\n",
    "ds_standard = standard_scaler.fit_transform(np.array(ds))\n",
    "ds_standard = pd.DataFrame(ds_standard, columns=columns)\n",
    "ds_standard.head()"
   ]
  },
  {
   "cell_type": "raw",
   "id": "31cae56d-0ece-4310-91cd-933e1d8c445f",
   "metadata": {},
   "source": [
    "ds_standard.describe()"
   ]
  },
  {
   "cell_type": "raw",
   "id": "089b8333-b609-4cdb-b8b7-3b265ca0b8e1",
   "metadata": {},
   "source": [
    "# стандартизация признака, однако преобразование происходит с помощью персантилей, тем самым снижается эффект выбросов\n",
    "\n",
    "robust_scaler = RobustScaler() \n",
    "columns = ds.columns\n",
    "ds_robust = robust_scaler.fit_transform(np.array(ds))\n",
    "ds_robust = pd.DataFrame(ds_robust, columns=columns)\n",
    "ds_robust.head()"
   ]
  },
  {
   "cell_type": "raw",
   "id": "1c57a682-da92-493a-8927-11e3d700ea88",
   "metadata": {},
   "source": [
    "ds_robust.describe()"
   ]
  },
  {
   "cell_type": "code",
   "execution_count": null,
   "id": "643bb42b-7b37-40a0-b17e-57be157d84c7",
   "metadata": {
    "scrolled": true,
    "tags": []
   },
   "outputs": [],
   "source": [
    "sns.pairplot(ds_scaler, diag_kind= 'auto', palette='Set2')"
   ]
  },
  {
   "cell_type": "code",
   "execution_count": null,
   "id": "62483d5f-b8a4-4968-a69a-09236e03ce1e",
   "metadata": {},
   "outputs": [],
   "source": [
    "min_max_scaler.inverse_transform(np.array(ds_scaler)[:1,:])"
   ]
  },
  {
   "cell_type": "markdown",
   "id": "4d324e8d-8a68-4965-86dd-f273bdfe6db2",
   "metadata": {},
   "source": [
    "# разделение выборки "
   ]
  },
  {
   "cell_type": "code",
   "execution_count": null,
   "id": "3a7eeea0-4313-424a-8c92-0db827363c2a",
   "metadata": {},
   "outputs": [],
   "source": [
    "# у нас 3 целевых переменных (y), для каждого признака необходимо построить отдельную модель\n",
    "\n",
    "y1_cols = ['Модуль упругости при растяжении, ГПа']\n",
    "x1_cols = [\n",
    "  'Соотношение матрица-наполнитель', \n",
    "  'Плотность, кг/м3',\n",
    "  'модуль упругости, ГПа', \n",
    "  'Количество отвердителя, м.%',\n",
    "  'Содержание эпоксидных групп,%_2', \n",
    "  'Температура вспышки, С_2',\n",
    "  'Поверхностная плотность, г/м2', \n",
    "  'Потребление смолы, г/м2',\n",
    "  'Угол нашивки, град', \n",
    "  'Шаг нашивки', \n",
    "  'Плотность нашивки'\n",
    "]"
   ]
  },
  {
   "cell_type": "code",
   "execution_count": null,
   "id": "26e1d914-d7b8-4ed9-87ca-e64e28595676",
   "metadata": {},
   "outputs": [],
   "source": [
    "y1 = ds.loc[:, y1_cols]\n",
    "x1 = ds.loc[:, x1_cols]"
   ]
  },
  {
   "cell_type": "code",
   "execution_count": null,
   "id": "f0295b4c-55e9-411e-a857-eb9db0213348",
   "metadata": {},
   "outputs": [],
   "source": [
    "y2_cols = ['Прочность при растяжении, МПа']\n",
    "x2_cols = [\n",
    "  'Соотношение матрица-наполнитель', \n",
    "  'Плотность, кг/м3',\n",
    "  'модуль упругости, ГПа', \n",
    "  'Количество отвердителя, м.%',\n",
    "  'Содержание эпоксидных групп,%_2', \n",
    "  'Температура вспышки, С_2',\n",
    "  'Поверхностная плотность, г/м2', \n",
    "  'Потребление смолы, г/м2',\n",
    "  'Угол нашивки, град', \n",
    "  'Шаг нашивки', \n",
    "  'Плотность нашивки'\n",
    "]"
   ]
  },
  {
   "cell_type": "code",
   "execution_count": null,
   "id": "127b4665-c4e0-4316-ac1d-63ba78407943",
   "metadata": {},
   "outputs": [],
   "source": [
    "y2 = ds.loc[:, y2_cols]\n",
    "x2 = ds.loc[:, x2_cols]"
   ]
  },
  {
   "cell_type": "code",
   "execution_count": null,
   "id": "e24bc4a9-2e3e-4b44-87bb-141f5b799b2c",
   "metadata": {},
   "outputs": [],
   "source": [
    "from sklearn.model_selection import train_test_split"
   ]
  },
  {
   "cell_type": "code",
   "execution_count": null,
   "id": "151f4dc4-a620-465c-ba3b-3dd1502c155d",
   "metadata": {},
   "outputs": [],
   "source": [
    "x1 = ds.drop(['Модуль упругости при растяжении, ГПа'], axis=1)\n",
    "x2 = ds.drop(['Прочность при растяжении, МПа'], axis=1)\n",
    "y1 = ds[['Модуль упругости при растяжении, ГПа']]\n",
    "y2 = ds[['Прочность при растяжении, МПа']]\n",
    "\n",
    "\n",
    "x_train_1, x_test_1, y_train_1, y_test_1 = train_test_split(x1, y1, test_size=0.3, random_state=42)\n",
    "x_train_2, x_test_2, y_train_2, y_test_2 = train_test_split(x2, y2, test_size=0.3, random_state=42)"
   ]
  },
  {
   "cell_type": "code",
   "execution_count": null,
   "id": "d2e42aad-4bf3-4587-a602-4569ac9e4e68",
   "metadata": {},
   "outputs": [],
   "source": [
    "x_train_1.shape, x_test_1.shape, y_train_1.shape, y_test_1.shape"
   ]
  },
  {
   "cell_type": "code",
   "execution_count": null,
   "id": "3a6ca0c6-7a43-40c8-b594-c1f95782749d",
   "metadata": {},
   "outputs": [],
   "source": [
    "x_train_2.shape, x_test_2.shape, y_train_2.shape, y_test_2.shape"
   ]
  },
  {
   "cell_type": "code",
   "execution_count": null,
   "id": "0b46de58-2db9-4a4d-838f-505d6e9fb1e8",
   "metadata": {},
   "outputs": [],
   "source": [
    "from sklearn.preprocessing import StandardScaler\n",
    "scaler = StandardScaler()\n",
    "scaler.fit(x_train_1)\n",
    "x_train_1_scaled = scaler.transform(x_train_1) \n",
    "x_test_1_scaled = scaler.transform(x_test_1)"
   ]
  },
  {
   "cell_type": "code",
   "execution_count": null,
   "id": "a6f994d2-bad5-4a15-a501-6b7486a8272e",
   "metadata": {},
   "outputs": [],
   "source": [
    "x_train_1_scaled[1]"
   ]
  },
  {
   "cell_type": "code",
   "execution_count": null,
   "id": "ab3026f3-f7cf-42d9-8efb-2f1a20526de7",
   "metadata": {},
   "outputs": [],
   "source": [
    "x_test_1_scaled[1]"
   ]
  },
  {
   "cell_type": "code",
   "execution_count": null,
   "id": "1c738945-3461-4c5c-8a40-e049e93da7c3",
   "metadata": {},
   "outputs": [],
   "source": [
    "scaler = StandardScaler()\n",
    "scaler.fit(x_train_2)\n",
    "x_train_2_scaled = scaler.transform(x_train_2) \n",
    "x_test_2_scaled = scaler.transform(x_test_2)"
   ]
  },
  {
   "cell_type": "code",
   "execution_count": null,
   "id": "037baeec-cfc3-49b3-9d6e-6198f671141b",
   "metadata": {},
   "outputs": [],
   "source": [
    "x_train_2_scaled[1]"
   ]
  },
  {
   "cell_type": "code",
   "execution_count": null,
   "id": "43498027-cc39-4932-99a5-50c059a45683",
   "metadata": {},
   "outputs": [],
   "source": [
    "x_test_2_scaled[1]"
   ]
  },
  {
   "cell_type": "markdown",
   "id": "7cc13bbb-c1d2-43b4-85c6-39fe66e24b8c",
   "metadata": {},
   "source": [
    "# линейная регрессия"
   ]
  },
  {
   "cell_type": "code",
   "execution_count": null,
   "id": "21890117-e98f-4158-8729-a96a8282676f",
   "metadata": {},
   "outputs": [],
   "source": [
    "# import warnings filter\n",
    "from warnings import simplefilter\n",
    "# ignore all future warnings\n",
    "simplefilter(action='ignore', category=FutureWarning)"
   ]
  },
  {
   "cell_type": "code",
   "execution_count": null,
   "id": "499496ab-28dd-436d-bfd4-fca3d1045618",
   "metadata": {},
   "outputs": [],
   "source": [
    "from sklearn import metrics\n",
    "from sklearn.linear_model import LinearRegression"
   ]
  },
  {
   "cell_type": "code",
   "execution_count": null,
   "id": "ea29c083-ec8b-45b1-98eb-df16960afd60",
   "metadata": {},
   "outputs": [],
   "source": [
    "# 1 модуль упругости\n",
    "\n",
    "linear_1 = LinearRegression()\n",
    "linear_1.fit(x_train_1_scaled, y_train_1)"
   ]
  },
  {
   "cell_type": "code",
   "execution_count": null,
   "id": "1d9c580e-05fd-4acb-a429-dc0e0c6ae75b",
   "metadata": {},
   "outputs": [],
   "source": [
    "linear_1.coef_"
   ]
  },
  {
   "cell_type": "code",
   "execution_count": null,
   "id": "ee365590-8153-4593-bec6-246865c5f69e",
   "metadata": {},
   "outputs": [],
   "source": [
    "y_pred_1 = linear_1.predict(x_test_1_scaled)"
   ]
  },
  {
   "cell_type": "code",
   "execution_count": null,
   "id": "de50c953-de5a-4fa7-b9c4-c6ef52fe0ac0",
   "metadata": {},
   "outputs": [],
   "source": [
    "MAE = metrics.mean_absolute_error(y_test_1, y_pred_1)\n",
    "MSE = metrics.mean_squared_error(y_test_1, y_pred_1)"
   ]
  },
  {
   "cell_type": "code",
   "execution_count": null,
   "id": "269a0417-bae7-491c-ad0e-8ad8155c5703",
   "metadata": {},
   "outputs": [],
   "source": [
    "MAE"
   ]
  },
  {
   "cell_type": "code",
   "execution_count": null,
   "id": "43c285ec-29fa-4858-9395-09ecafae0e95",
   "metadata": {},
   "outputs": [],
   "source": [
    "MSE"
   ]
  },
  {
   "cell_type": "code",
   "execution_count": null,
   "id": "4b1665c6-d719-4e18-83d0-ac7004f05bf0",
   "metadata": {},
   "outputs": [],
   "source": [
    "# прогнозируемый график в сравнении с фактическим\n",
    "plt.scatter(y_test_1, y_pred_1)\n",
    "plt.xlabel('Actual Labels')\n",
    "plt.ylabel('Predicted Labels')\n",
    "plt.title('Predictions - модуль упругости при растяжении, ГПа')\n",
    "\n",
    "# линия регрессии\n",
    "z = np.polyfit(y_test_1.to_numpy().ravel(), pd.DataFrame(y_pred_1).values.ravel(), 1)\n",
    "p = np.poly1d(z)\n",
    "plt.plot(y_test_1,p(y_test_1), color='cyan')\n",
    "plt.savefig('reg1')\n",
    "plt.show()"
   ]
  },
  {
   "cell_type": "code",
   "execution_count": null,
   "id": "b43cecd7-0efd-485b-af14-5854f77ecc1a",
   "metadata": {},
   "outputs": [],
   "source": [
    "from sklearn.metrics import r2_score"
   ]
  },
  {
   "cell_type": "code",
   "execution_count": null,
   "id": "0821cb5b-26d1-4927-b0ac-c3765062c71b",
   "metadata": {},
   "outputs": [],
   "source": [
    "y_pred_1 = linear_1.predict(x_test_1_scaled)\n",
    "linear_R2 = r2_score(y_test_1, y_pred_1)\n",
    "mae = metrics.mean_absolute_error(y_test_1, y_pred_1)\n",
    "mse = metrics.mean_squared_error(y_test_1, y_pred_1)"
   ]
  },
  {
   "cell_type": "code",
   "execution_count": null,
   "id": "690ba598-d2ba-4dd3-94d1-ed92835cc618",
   "metadata": {},
   "outputs": [],
   "source": [
    "linear_R2"
   ]
  },
  {
   "cell_type": "code",
   "execution_count": null,
   "id": "14eb89e3-24b3-4e6e-af7c-89c5d362cfb5",
   "metadata": {},
   "outputs": [],
   "source": [
    "# 2 прочность при растяжении\n",
    "linear_2 = LinearRegression().fit(x_train_2_scaled, y_train_2)"
   ]
  },
  {
   "cell_type": "code",
   "execution_count": null,
   "id": "afed75ba-2b44-47bd-87e2-29f9828fa362",
   "metadata": {},
   "outputs": [],
   "source": [
    "linear_2.coef_"
   ]
  },
  {
   "cell_type": "code",
   "execution_count": null,
   "id": "66030f82-b0d0-42fe-9859-8dc25129180d",
   "metadata": {},
   "outputs": [],
   "source": [
    "y_pred_2 = linear_2.predict(x_test_2_scaled)\n",
    "y_train_2_pred = linear_2.predict(x_train_2_scaled)\n",
    "linear_R2 = r2_score(y_test_2, y_pred_2)"
   ]
  },
  {
   "cell_type": "code",
   "execution_count": null,
   "id": "cd349458-f1ff-40bd-982b-5e7be236697c",
   "metadata": {},
   "outputs": [],
   "source": [
    "linear_R2"
   ]
  },
  {
   "cell_type": "code",
   "execution_count": null,
   "id": "b844818a-2c70-4fd6-ab85-1ed35287d85c",
   "metadata": {},
   "outputs": [],
   "source": [
    "MAE = metrics.mean_absolute_error(y_test_2, y_pred_2)\n",
    "MSE = metrics.mean_squared_error(y_test_2, y_pred_2)"
   ]
  },
  {
   "cell_type": "code",
   "execution_count": null,
   "id": "37fed8be-e3a8-41f3-96c0-5dc7d91b1556",
   "metadata": {},
   "outputs": [],
   "source": [
    "MAE"
   ]
  },
  {
   "cell_type": "code",
   "execution_count": null,
   "id": "b735f9de-f807-4205-80ea-c393623e3ce9",
   "metadata": {},
   "outputs": [],
   "source": [
    "MSE"
   ]
  },
  {
   "cell_type": "code",
   "execution_count": null,
   "id": "fd4d3773-7b2f-45b0-a589-b33e8f881a68",
   "metadata": {},
   "outputs": [],
   "source": [
    "# прогнозируемый график в сравнении с фактическим\n",
    "plt.scatter(y_test_2, y_pred_2)\n",
    "plt.xlabel('Actual Labels')\n",
    "plt.ylabel('Predicted Labels')\n",
    "plt.title('Прочность при растяжении, МПа Predictions')\n",
    "\n",
    "# линия регрессии\n",
    "z = np.polyfit(y_test_2.to_numpy().ravel(), pd.DataFrame(y_pred_2).values.ravel(), 1)\n",
    "p = np.poly1d(z)\n",
    "plt.plot(y_test_2,p(y_test_2), color='cyan')\n",
    "plt.savefig('reg2')\n",
    "plt.show()"
   ]
  },
  {
   "cell_type": "markdown",
   "id": "b9c42045-c34b-4719-b29b-ca269f9019fb",
   "metadata": {},
   "source": [
    "# метод K ближайших соседей"
   ]
  },
  {
   "cell_type": "code",
   "execution_count": null,
   "id": "48be2e56-5e1e-4bca-8e84-c35a03b199f3",
   "metadata": {},
   "outputs": [],
   "source": [
    "from sklearn.neighbors import KNeighborsRegressor\n",
    "from sklearn.neighbors import KNeighborsClassifier\n",
    "from sklearn.metrics import mean_squared_error, mean_absolute_error, r2_score\n",
    "from sklearn.model_selection import StratifiedKFold, train_test_split, cross_val_score, GridSearchCV\n",
    "from sklearn.preprocessing import StandardScaler, PowerTransformer"
   ]
  },
  {
   "cell_type": "code",
   "execution_count": null,
   "id": "32865e2e-1fae-47db-bef1-837bf1a4ec83",
   "metadata": {},
   "outputs": [],
   "source": [
    "# 1 модуль упругости при растяжении\n",
    "\n",
    "# обучение модели на тренировочных данных\n",
    "knn = KNeighborsRegressor(n_neighbors=6)\n",
    "knn.fit(x_train_1, y_train_1)\n",
    "\n",
    "# прогнозирование значений на тестовых данных\n",
    "y_pred_1 = knn.predict(x_test_1)\n",
    "\n",
    "# оценка качества модели\n",
    "mse = mean_squared_error(y_test_1, y_pred_1)\n",
    "mae = mean_absolute_error(y_test_1, y_pred_1)\n",
    "r2 = r2_score(y_test_1, y_pred_1)\n",
    "\n",
    "print('MSE:', mse)\n",
    "print('MAE:', mae)\n",
    "print('R2:', r2)"
   ]
  },
  {
   "cell_type": "code",
   "execution_count": null,
   "id": "bb1e8bd5-cbe6-42d4-99a4-ec8405ca9d4e",
   "metadata": {},
   "outputs": [],
   "source": [
    "# 2 прочность при растяжении\n",
    "\n",
    "# обучение модели на тренировочных данных \n",
    "\n",
    "knn = KNeighborsRegressor(n_neighbors=7)\n",
    "knn.fit(x_train_2, y_train_2)\n",
    "\n",
    "# Прогнозирование значений на тестовых данных\n",
    "y_pred_2 = knn.predict(x_test_2)\n",
    "\n",
    "# оценка качества модели\n",
    "mse = mean_squared_error(y_test_2, y_pred_2)\n",
    "mae = mean_absolute_error(y_test_2, y_pred_2)\n",
    "r2 = r2_score(y_test_2, y_pred_2)\n",
    "\n",
    "print('MSE:', mse)\n",
    "print('MAE:', mae)\n",
    "print('R2:', r2)     "
   ]
  },
  {
   "cell_type": "markdown",
   "id": "d9ce0a9c-619c-4a4e-b56d-5f7597d68ade",
   "metadata": {},
   "source": [
    "# метод случайного леса"
   ]
  },
  {
   "cell_type": "code",
   "execution_count": null,
   "id": "4e1e05e6-b0aa-43ac-956d-e84971372363",
   "metadata": {},
   "outputs": [],
   "source": [
    "# 1 модуль упругости при растяжении\n",
    "\n",
    "from sklearn.ensemble import RandomForestRegressor\n",
    "from sklearn.model_selection import GridSearchCV\n",
    "from sklearn.preprocessing import StandardScaler\n",
    "\n",
    "# cоздание объекта StandardScaler\n",
    "scaler = StandardScaler()\n",
    "\n",
    "# одномерный массив\n",
    "y_train_1 = y_train_1.ravel()\n",
    "y_test_1 = y_test_1.ravel()\n",
    "\n",
    "# стандартизация данных\n",
    "x_train_1_scaled = scaler.fit_transform(x_train_1)\n",
    "x_test_1_scaled = scaler.transform(x_test_1)\n",
    "\n",
    "\n",
    "# создание модели случайного леса для для модуля упругости при растяжении\n",
    "rf_1 = RandomForestRegressor()\n",
    "\n",
    "# создание сетки параметров для перебора. подбор параметров\n",
    "param_grid = {\n",
    "    'n_estimators': [5, 20, 100],\n",
    "    'max_depth': [1, 5, 10],\n",
    "}\n",
    "\n",
    "#'n_estimators': [50, 100, 150],\n",
    "#'max_depth' : [4, 5, 6]\n",
    "\n",
    "# создание объекта GridSearchCV\n",
    "grid = GridSearchCV(rf_1, param_grid, cv=5, n_jobs=-1)\n",
    "\n",
    "# обучение модели на тренировочных данных\n",
    "grid.fit(x_train_1_scaled, y_train_1) # не нормализуем целевую переменную\n",
    "\n",
    "# вывод наилучших параметров и оценки качества модели\n",
    "rf_1_best = grid.best_estimator_\n",
    "print(f'R2-score случайного леса: {rf_1_best.score(x_test_1_scaled, y_test_1).round(3)}')"
   ]
  },
  {
   "cell_type": "code",
   "execution_count": null,
   "id": "37920b1b-0b43-4b48-8c7e-5f09d0e3bc1e",
   "metadata": {},
   "outputs": [],
   "source": [
    "# вывод наилучших параметров и оценки качества модели\n",
    "rf_1_best = grid.best_estimator_\n",
    "rf_1_best"
   ]
  },
  {
   "cell_type": "code",
   "execution_count": null,
   "id": "da4406a9-690d-4572-b1d4-8e0d6927f7ce",
   "metadata": {},
   "outputs": [],
   "source": [
    "# 2 прочность при растяжении\n",
    "\n",
    "from sklearn.ensemble import RandomForestRegressor\n",
    "from sklearn.model_selection import GridSearchCV\n",
    "from sklearn.preprocessing import StandardScaler\n",
    "\n",
    "\n",
    "# создание объекта StandardScaler\n",
    "scaler = StandardScaler()\n",
    "\n",
    "# одномерный массив\n",
    "y_train_2 = y_train_2.ravel()\n",
    "y_test_2 = y_test_2.ravel()\n",
    "\n",
    "# нормализация данных\n",
    "x_train_2_scaled = scaler.fit_transform(x_train_2)\n",
    "x_test_2_scaled = scaler.transform(x_test_2)\n",
    "\n",
    "\n",
    "# создание модели случайного леса для для модуля упругости при растяжении\n",
    "rf_2 = RandomForestRegressor()\n",
    "\n",
    "# создание сетки параметров для перебора. подбор параметров\n",
    "param_grid = {\n",
    "    'n_estimators': [10, 51, 5],\n",
    "    'max_depth': [1, 10, 1],\n",
    "}\n",
    "\n",
    "#'n_estimators': [50, 100, 150],\n",
    "#'max_depth' : [4, 5, 6]\n",
    "\n",
    "# создание объекта GridSearchCV\n",
    "grid = GridSearchCV(rf_2, param_grid, cv=5, n_jobs=-1)\n",
    "\n",
    "# обучение модели на тренировочных данных\n",
    "grid.fit(x_train_2_scaled, y_train_2) # не нормализуем целевую переменную\n",
    "\n",
    "# вывод наилучших параметров и оценки качества модели\n",
    "rf_2_best = grid.best_estimator_\n",
    "print(f'R2-score случайного леса: {rf_2_best.score(x_test_2_scaled, y_test_2).round(3)}')"
   ]
  },
  {
   "cell_type": "code",
   "execution_count": null,
   "id": "774d9658-6c22-4482-8974-68b6ea4019fb",
   "metadata": {},
   "outputs": [],
   "source": [
    "# вывод наилучших параметров и оценки качества модели\n",
    "rf_2_best = grid.best_estimator_\n",
    "rf_2_best"
   ]
  },
  {
   "cell_type": "code",
   "execution_count": null,
   "id": "76a1057f-d3aa-4518-86cf-e880aefa00a6",
   "metadata": {},
   "outputs": [],
   "source": [
    "print(type(y_train_1))"
   ]
  },
  {
   "cell_type": "code",
   "execution_count": null,
   "id": "b006532c-9df7-4690-bb9c-68d7e2de24a5",
   "metadata": {},
   "outputs": [],
   "source": [
    "# настройка модели на кросс-валидации\n",
    "# params = {'n_estimators': (100, 200, 500), \n",
    "#           'max_depth': (7, 15, 21), \n",
    "#           'min_samples_split': (2, 4)}\n",
    "# forest_grid = GridSearchCV(tree, param_grid=params, scoring='roc_auc', n_jobs=-1, cv=skf)\n",
    "# forest_grid.fit(x_train, y_train)\n",
    "\n",
    "# print('Лучшая модель на кросс-валидации с параметрами {} и результатом {}'.format(forest_grid.best_params_, \n",
    "#                                                                         forest_grid.best_score_,))\n",
    "# best_model = forest_grid.best_estimator_"
   ]
  },
  {
   "cell_type": "markdown",
   "id": "2b892092-b97d-4c5c-a255-b57fc7305e1c",
   "metadata": {},
   "source": [
    "# нейронная сеть"
   ]
  },
  {
   "cell_type": "code",
   "execution_count": null,
   "id": "06c43c0a-0822-4363-84fc-d062505612c5",
   "metadata": {},
   "outputs": [],
   "source": [
    "import tensorflow as tf\n",
    "\n",
    "from tensorflow import keras\n",
    "from keras.models import Sequential\n",
    "from keras.layers import Dense, Activation\n",
    "from tensorflow.keras.optimizers import Adam, SGD"
   ]
  },
  {
   "cell_type": "code",
   "execution_count": null,
   "id": "1c33bd7c-f516-4577-b046-de48208b9b98",
   "metadata": {},
   "outputs": [],
   "source": [
    "print(tf.__version__)"
   ]
  },
  {
   "cell_type": "code",
   "execution_count": null,
   "id": "9252da58-f689-499f-b4a2-157f225b1ea7",
   "metadata": {},
   "outputs": [],
   "source": [
    "# делим данные\n",
    "\n",
    "x3 = ds.drop(['Соотношение матрица-наполнитель'], axis=1)\n",
    "y3 = ds[['Соотношение матрица-наполнитель']]\n",
    "\n",
    "x_train_3, x_test_3, y_train_3, y_test_3 = train_test_split(x3, y3, test_size=0.3, random_state=42)"
   ]
  },
  {
   "cell_type": "code",
   "execution_count": null,
   "id": "12a877be-4b24-431f-9014-b17772495a18",
   "metadata": {},
   "outputs": [],
   "source": [
    "# масштабирование \n",
    "scaler = StandardScaler()\n",
    "x_train_3_scaled = scaler.fit_transform(x_train_3)\n",
    "x_test_3_scaled = scaler.transform(x_test_3)"
   ]
  },
  {
   "cell_type": "code",
   "execution_count": null,
   "id": "4b0ffde3-6b2c-4678-a11f-d6da147cf5a6",
   "metadata": {},
   "outputs": [],
   "source": [
    "# создание модели\n",
    "model = Sequential()\n",
    "model.add(Dense(8, activation='tanh', input_shape=(x_train_3.shape[1],)))\n",
    "model.add(Dense(8, activation='tanh'))\n",
    "model.add(Dense(1, activation='sigmoid'))"
   ]
  },
  {
   "cell_type": "code",
   "execution_count": null,
   "id": "0bdde608-3a46-42b6-8384-d0d177741329",
   "metadata": {},
   "outputs": [],
   "source": [
    "# определение гиперпараметров\n",
    "learning_rate = 0.01\n",
    "momentum = 0.0\n",
    "nesterov = False\n",
    "\n",
    "# компиляция модели\n",
    "optimizer = SGD(learning_rate=learning_rate, momentum=momentum, nesterov=nesterov)\n",
    "model.compile(optimizer=optimizer, loss='mse', metrics=['mae'])"
   ]
  },
  {
   "cell_type": "code",
   "execution_count": null,
   "id": "a0bba195-0b99-44f9-9084-88c79cb0a2f0",
   "metadata": {},
   "outputs": [],
   "source": [
    "from sklearn.metrics import mean_squared_error, r2_score\n",
    "from sklearn.metrics import mean_absolute_error"
   ]
  },
  {
   "cell_type": "code",
   "execution_count": null,
   "id": "54f0d954-8f8d-4733-9d4d-43cfcc56b8cc",
   "metadata": {
    "scrolled": true,
    "tags": []
   },
   "outputs": [],
   "source": [
    "# обучение модели\n",
    "history = model.fit(x_train_3_scaled, y_train_3, \n",
    "                    batch_size = 100,\n",
    "                    epochs = 300,\n",
    "                    verbose = 1, \n",
    "                    validation_split = 0.2)\n",
    "\n",
    "# оценка качества модели на тестовых данных\n",
    "mse, mae = model.evaluate(x_test_3_scaled, y_test_3)\n",
    "print(f\"Mean Squared Error on test set: {mse:.3f}\")\n",
    "print(f\"Mean Absolute Error on test set: {mae:.3f}\")\n",
    "\n",
    "# предсказание\n",
    "y_pred_3 = model.predict(x_test_3)\n",
    "\n",
    "# cтатистика\n",
    "mse = mean_squared_error(y_test_3, y_pred_3)\n",
    "mae = mean_absolute_error(y_test_3, y_pred_3)\n",
    "r2 = r2_score(y_test_3, y_pred_3)"
   ]
  },
  {
   "cell_type": "code",
   "execution_count": null,
   "id": "0938f254-49b2-4138-abd9-6541b3183d5e",
   "metadata": {},
   "outputs": [],
   "source": [
    "# статистика\n",
    "print('Mean Squared Error:', mse)\n",
    "print('Mean Absolute Error:', mae)\n",
    "print('R-squared Score:', r2)"
   ]
  },
  {
   "cell_type": "code",
   "execution_count": null,
   "id": "6af628b0-c86a-4567-8672-4edeb9c44ab0",
   "metadata": {},
   "outputs": [],
   "source": [
    "import matplotlib.pyplot as plt\n",
    "\n",
    "# предсказание на тестовых данных\n",
    "y_pred = model.predict(x_test_3)\n",
    "\n",
    "plt.figure(figsize=(12,6))\n",
    "plt.plot(y_test_3.values, label='Actual')\n",
    "plt.plot(y_pred_3, label='Predicted')\n",
    "plt.xlabel('Samples')\n",
    "plt.ylabel('Соотношение матрица-наполнитель')\n",
    "plt.title('Actual vs Predicted')\n",
    "plt.legend()\n",
    "plt.savefig('neural.png')\n",
    "plt.show()"
   ]
  },
  {
   "cell_type": "markdown",
   "id": "1632c8f7-2fb3-418d-813c-688fd01f2d74",
   "metadata": {},
   "source": [
    "# сохранение модели"
   ]
  },
  {
   "cell_type": "code",
   "execution_count": null,
   "id": "cdc4ad92-725c-46d8-888f-4f2460c0b534",
   "metadata": {},
   "outputs": [],
   "source": [
    "import pickle\n",
    "\n",
    "pickle.dump(linear_1, open('l1_model.pkl', 'wb'))"
   ]
  },
  {
   "cell_type": "code",
   "execution_count": null,
   "id": "f6cc7489-4e7e-4154-8a2e-b6ac920735ea",
   "metadata": {},
   "outputs": [],
   "source": [
    "model_load = pickle.load(open('l1_model.pkl', 'rb'))"
   ]
  },
  {
   "cell_type": "code",
   "execution_count": null,
   "id": "af5873f1-ae2c-4a6e-b01a-cacbb4bb5d10",
   "metadata": {},
   "outputs": [],
   "source": [
    "model_load.predict(x_test_1_scaled)"
   ]
  },
  {
   "cell_type": "code",
   "execution_count": null,
   "id": "a280e6a0-ae88-410c-b236-2e33bff7e6f3",
   "metadata": {},
   "outputs": [],
   "source": []
  }
 ],
 "metadata": {
  "kernelspec": {
   "display_name": "Python 3 (ipykernel)",
   "language": "python",
   "name": "python3"
  },
  "language_info": {
   "codemirror_mode": {
    "name": "ipython",
    "version": 3
   },
   "file_extension": ".py",
   "mimetype": "text/x-python",
   "name": "python",
   "nbconvert_exporter": "python",
   "pygments_lexer": "ipython3",
   "version": "3.9.13"
  }
 },
 "nbformat": 4,
 "nbformat_minor": 5
}
